{
 "cells": [
  {
   "cell_type": "markdown",
   "metadata": {},
   "source": [
    "# Improving Variational Quantum Optimization using CVaR\n",
    "Panagiotis Kl. Barkoutsos, Giacomo Nannicini, Anton Robert, Ivano Tavernelli, Stefan Woerner"
   ]
  },
  {
   "cell_type": "markdown",
   "metadata": {},
   "source": [
    "This notebook provides an implementation to reproduce the results published in\n",
    "https://arxiv.org/abs/1907.04769. <br>\n",
    "For more details we refer to the paper."
   ]
  },
  {
   "cell_type": "code",
   "execution_count": 1,
   "metadata": {},
   "outputs": [],
   "source": [
    "from qiskit.aqua.components.variational_forms import RY\n",
    "from qiskit.aqua.components.optimizers import COBYLA\n",
    "from qiskit.aqua.algorithms.adaptive.qaoa.var_form import QAOAVarForm\n",
    "from qiskit.aqua.algorithms import ExactEigensolver\n",
    "from qiskit.finance.ising import portfolio\n",
    "from qiskit import execute, Aer\n",
    "import numpy as np\n",
    "import matplotlib.pyplot as plt"
   ]
  },
  {
   "cell_type": "markdown",
   "metadata": {},
   "source": [
    "## Portfolio Optimization\n",
    "In the following we define a random problem instance for portfolio optimization.<br>\n",
    "Many translators for other optimization problems, such as ``max_cut``, ``stable_set``, ``partition``, etc.  can be found in ``qiskit.optimization.ising``."
   ]
  },
  {
   "cell_type": "code",
   "execution_count": 2,
   "metadata": {},
   "outputs": [],
   "source": [
    "# prepare problem instance\n",
    "n = 6  # number of assets\n",
    "q = 0.5 # risk factor\n",
    "budget = n // 2  # budget\n",
    "penalty = 12  # penalty factor for equality constraints"
   ]
  },
  {
   "cell_type": "code",
   "execution_count": 3,
   "metadata": {},
   "outputs": [],
   "source": [
    "# instance from paper\n",
    "mu = np.array([0.7313, 0.9893, 0.2725, 0.8750, 0.7667, 0.3622])\n",
    "sigma = np.array([\n",
    "    [ 0.7312, -0.6233,  0.4689, -0.5452, -0.0082, -0.3809],\n",
    "    [-0.6233,  2.4732, -0.7538,  2.4659, -0.0733,  0.8945],\n",
    "    [ 0.4689, -0.7538,  1.1543, -1.4095,  0.0007, -0.4301],\n",
    "    [-0.5452,  2.4659, -1.4095,  3.5067,  0.2012,  1.0922],\n",
    "    [-0.0082, -0.0733,  0.0007,  0.2012,  0.6231,  0.1509],\n",
    "    [-0.3809,  0.8945, -0.4301,  1.0922,  0.1509,  0.8992]\n",
    "])\n",
    "\n",
    "# or random instance\n",
    "# mu, sigma = portfolio.random_model(n, seed=123)  # expected returns and covariance matrix"
   ]
  },
  {
   "cell_type": "code",
   "execution_count": 4,
   "metadata": {},
   "outputs": [],
   "source": [
    "# derive cost Hamiltonian and constant offset\n",
    "H, offset = portfolio.get_operator(mu, sigma, q, budget, penalty)"
   ]
  },
  {
   "cell_type": "markdown",
   "metadata": {},
   "source": [
    "## Compute Optimal Solution Classically\n",
    "Use the exact eigensolver to evaluate the optimal value classically. This is used to track the overlap with the optimal solution throughout the optimization."
   ]
  },
  {
   "cell_type": "code",
   "execution_count": 5,
   "metadata": {},
   "outputs": [
    {
     "name": "stdout",
     "output_type": "stream",
     "text": [
      "optimal_value = -1.2784\n"
     ]
    }
   ],
   "source": [
    "exact_eigen_solver = ExactEigensolver(H)\n",
    "optimal_value = exact_eigen_solver.run()['energy'] + offset\n",
    "print('optimal_value = %.4f' % optimal_value)"
   ]
  },
  {
   "cell_type": "markdown",
   "metadata": {},
   "source": [
    "## Variational Quantum Optimization"
   ]
  },
  {
   "cell_type": "code",
   "execution_count": 6,
   "metadata": {},
   "outputs": [],
   "source": [
    "# set classical optimizer\n",
    "maxiter = 100\n",
    "optimizer = COBYLA(maxiter=maxiter)\n",
    "\n",
    "# set variational ansatz\n",
    "var_form = RY(n, depth=1)\n",
    "# var_form = QAOAVarForm(H, 1)  # use this ansatz for CVaR-QAOA\n",
    "m = var_form.num_parameters\n",
    "\n",
    "# set backend\n",
    "backend = Aer.get_backend('statevector_simulator')\n",
    "# backend = Aer.get_backend('qasm_simulator')  # use this for QASM simulator"
   ]
  },
  {
   "cell_type": "code",
   "execution_count": 7,
   "metadata": {},
   "outputs": [],
   "source": [
    "def compute_cvar(probabilities, values, alpha):\n",
    "    \"\"\" \n",
    "    Auxilliary method to computes CVaR for given probabilities, values, and confidence level.\n",
    "    \n",
    "    Attributes:\n",
    "    - probabilities: list/array of probabilities\n",
    "    - values: list/array of corresponding values\n",
    "    - alpha: confidence level\n",
    "    \n",
    "    Returns:\n",
    "    - CVaR\n",
    "    \"\"\"\n",
    "    sorted_indices = np.argsort(values)\n",
    "    probs = np.array(probabilities)[sorted_indices]\n",
    "    vals = np.array(values)[sorted_indices]\n",
    "    cvar = 0\n",
    "    total_prob = 0\n",
    "    for i, (p, v) in enumerate(zip(probs, vals)):\n",
    "        done = False\n",
    "        if p >= alpha - total_prob:\n",
    "            p = alpha - total_prob\n",
    "            done = True\n",
    "        total_prob += p\n",
    "        cvar += p * v\n",
    "    cvar /= total_prob\n",
    "    return cvar"
   ]
  },
  {
   "cell_type": "code",
   "execution_count": 8,
   "metadata": {},
   "outputs": [],
   "source": [
    "def eval_bitstring(H, x):\n",
    "    \"\"\"\n",
    "    Auxilliary method to evaluate the objective function for a given bitstring\n",
    "    \n",
    "    Attributes:\n",
    "    - H: cost Hamiltonian\n",
    "    - x: bitstring\n",
    "    \n",
    "    Returns:\n",
    "    - objective value\n",
    "    \"\"\"\n",
    "\n",
    "    # invert bitstring for convenience and translate to +/-1\n",
    "    x = x[::-1]    \n",
    "    spins = np.array([(-1)**(b == '1') for b in x])\n",
    "    value = 0\n",
    "    \n",
    "    # loop over pauli terms and add contribution to objective\n",
    "    for p in H.paulis:\n",
    "        weight = np.real(p[0])\n",
    "        indices = np.where(p[1].z)\n",
    "        value += weight * np.prod(spins[indices])\n",
    "    return value"
   ]
  },
  {
   "cell_type": "code",
   "execution_count": 9,
   "metadata": {},
   "outputs": [],
   "source": [
    "class Objective:\n",
    "    \"\"\"\n",
    "    Wrapper for objective function to track the history of evaluations\n",
    "    \"\"\"\n",
    "    \n",
    "    def __init__(self, var_form, H, offset, alpha, backend, optimal=None):\n",
    "        self.history = []\n",
    "        self.var_form = var_form\n",
    "        self.H = H\n",
    "        self.offset = offset\n",
    "        self.alpha = alpha\n",
    "        self.backend = backend\n",
    "        self.optimal = optimal\n",
    "        self.opt_history = []\n",
    "    \n",
    "    def evaluate(self, thetas):\n",
    "    \n",
    "        # create and run circuit\n",
    "        qc = self.var_form.construct_circuit(thetas)\n",
    "        job = execute(qc, self.backend)\n",
    "        result = job.result()\n",
    "        counts = result.get_counts()\n",
    "\n",
    "        # evaluate counts\n",
    "        probabilities = np.zeros(len(counts))\n",
    "        values = np.zeros(len(counts))\n",
    "        for i, (x, p) in enumerate(counts.items()):\n",
    "            values[i] = eval_bitstring(self.H, x) + self.offset\n",
    "            probabilities[i] = p\n",
    "            \n",
    "        # track optimal probability\n",
    "        if self.optimal:\n",
    "            indices = np.where(values <= self.optimal + 1e-8)\n",
    "            self.opt_history += [sum(probabilities[indices])]\n",
    "        \n",
    "        # evaluate cvar\n",
    "        cvar = compute_cvar(probabilities, values, self.alpha)\n",
    "        self.history += [cvar]\n",
    "        return cvar"
   ]
  },
  {
   "cell_type": "code",
   "execution_count": 10,
   "metadata": {},
   "outputs": [],
   "source": [
    "# run variational optimization for different values of alpha\n",
    "alphas = [1.0, 0.25, 0.10]  # confidence levels to be evaluated\n",
    "initial_point = np.random.rand(m)  # same random initial set of parameters for all experiments\n",
    "objectives = {}  # set of tested objective functions w.r.t. alpha\n",
    "for alpha in alphas:\n",
    "    objectives[alpha] = Objective(var_form, H, offset, alpha, backend, optimal=optimal_value)\n",
    "    optimizer.optimize(m, objectives[alpha].evaluate, initial_point=initial_point)"
   ]
  },
  {
   "cell_type": "code",
   "execution_count": 11,
   "metadata": {},
   "outputs": [
    {
     "data": {
      "image/png": "[encoded data removed]",
      "text/plain": [
       "<Figure size 432x288 with 1 Axes>"
      ]
     },
     "metadata": {
      "needs_background": "light"
     },
     "output_type": "display_data"
    }
   ],
   "source": [
    "# plot resulting history of objective values\n",
    "for alpha in alphas:\n",
    "    plt.plot(objectives[alpha].history, label='alpha = %.2f' % alpha)\n",
    "plt.legend()\n",
    "plt.xlim(0, maxiter)\n",
    "plt.show()"
   ]
  },
  {
   "cell_type": "code",
   "execution_count": 12,
   "metadata": {},
   "outputs": [
    {
     "data": {
      "image/png": "[encoded data removed]",
      "text/plain": [
       "<Figure size 432x288 with 1 Axes>"
      ]
     },
     "metadata": {
      "needs_background": "light"
     },
     "output_type": "display_data"
    }
   ],
   "source": [
    "# plot resulting overlap with optimal solution\n",
    "for alpha in alphas:\n",
    "    history = objectives[alpha].opt_history  # get history for alpha\n",
    "    plt.plot(history, label='alpha = %.2f' % alpha)  # plot history for alpha\n",
    "plt.legend()\n",
    "plt.xlim(0, maxiter)\n",
    "plt.show()"
   ]
  },
  {
   "cell_type": "code",
   "execution_count": null,
   "metadata": {},
   "outputs": [],
   "source": []
  }
 ],
 "metadata": {
  "kernelspec": {
   "display_name": "Python 3",
   "language": "python",
   "name": "python3"
  },
  "language_info": {
   "codemirror_mode": {
    "name": "ipython",
    "version": 3
   },
   "file_extension": ".py",
   "mimetype": "text/x-python",
   "name": "python",
   "nbconvert_exporter": "python",
   "pygments_lexer": "ipython3",
   "version": "3.7.4"
  }
 },
 "nbformat": 4,
 "nbformat_minor": 2
}
